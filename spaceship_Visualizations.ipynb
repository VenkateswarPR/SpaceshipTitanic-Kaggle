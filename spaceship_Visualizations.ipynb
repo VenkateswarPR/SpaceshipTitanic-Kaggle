{
 "cells": [
  {
   "cell_type": "markdown",
   "id": "1354274c",
   "metadata": {},
   "source": [
    "#  Analysis"
   ]
  },
  {
   "cell_type": "code",
   "execution_count": 1,
   "id": "829f40e3",
   "metadata": {},
   "outputs": [],
   "source": [
    "import pandas as pd\n",
    "import numpy as np\n",
    "##visuals\n",
    "import matplotlib.pyplot as plt\n",
    "import seaborn as sns\n",
    "\n",
    "## other\n",
    "import warnings\n",
    "warnings.filterwarnings('ignore')\n",
    "pd.set_option('display.max_columns',None)\n",
    "pd.set_option('display.max_rows',None)"
   ]
  },
  {
   "cell_type": "markdown",
   "id": "d1ca5eaf",
   "metadata": {},
   "source": [
    "### Importing the data"
   ]
  },
  {
   "cell_type": "code",
   "execution_count": 2,
   "id": "fffe694a",
   "metadata": {},
   "outputs": [],
   "source": [
    "df1 = pd.read_csv('./Data/clean_train.csv')"
   ]
  },
  {
   "cell_type": "markdown",
   "id": "fbbd6945",
   "metadata": {},
   "source": [
    "### Let's understand our train data"
   ]
  },
  {
   "cell_type": "code",
   "execution_count": 3,
   "id": "2bf43159",
   "metadata": {},
   "outputs": [
    {
     "data": {
      "text/html": [
       "<div>\n",
       "<style scoped>\n",
       "    .dataframe tbody tr th:only-of-type {\n",
       "        vertical-align: middle;\n",
       "    }\n",
       "\n",
       "    .dataframe tbody tr th {\n",
       "        vertical-align: top;\n",
       "    }\n",
       "\n",
       "    .dataframe thead th {\n",
       "        text-align: right;\n",
       "    }\n",
       "</style>\n",
       "<table border=\"1\" class=\"dataframe\">\n",
       "  <thead>\n",
       "    <tr style=\"text-align: right;\">\n",
       "      <th></th>\n",
       "      <th>PassengerId</th>\n",
       "      <th>HomePlanet</th>\n",
       "      <th>CryoSleep</th>\n",
       "      <th>Cabin</th>\n",
       "      <th>Destination</th>\n",
       "      <th>Age</th>\n",
       "      <th>VIP</th>\n",
       "      <th>RoomService</th>\n",
       "      <th>FoodCourt</th>\n",
       "      <th>ShoppingMall</th>\n",
       "      <th>Spa</th>\n",
       "      <th>VRDeck</th>\n",
       "      <th>Name</th>\n",
       "      <th>Transported</th>\n",
       "    </tr>\n",
       "  </thead>\n",
       "  <tbody>\n",
       "    <tr>\n",
       "      <th>0</th>\n",
       "      <td>0001_01</td>\n",
       "      <td>Europa</td>\n",
       "      <td>False</td>\n",
       "      <td>B/0/P</td>\n",
       "      <td>TRAPPIST-1e</td>\n",
       "      <td>39.0</td>\n",
       "      <td>False</td>\n",
       "      <td>0.0</td>\n",
       "      <td>0.0</td>\n",
       "      <td>0.0</td>\n",
       "      <td>0.0</td>\n",
       "      <td>0.0</td>\n",
       "      <td>Maham Ofracculy</td>\n",
       "      <td>False</td>\n",
       "    </tr>\n",
       "    <tr>\n",
       "      <th>1</th>\n",
       "      <td>0002_01</td>\n",
       "      <td>Earth</td>\n",
       "      <td>False</td>\n",
       "      <td>F/0/S</td>\n",
       "      <td>TRAPPIST-1e</td>\n",
       "      <td>24.0</td>\n",
       "      <td>False</td>\n",
       "      <td>109.0</td>\n",
       "      <td>9.0</td>\n",
       "      <td>25.0</td>\n",
       "      <td>549.0</td>\n",
       "      <td>44.0</td>\n",
       "      <td>Juanna Vines</td>\n",
       "      <td>True</td>\n",
       "    </tr>\n",
       "    <tr>\n",
       "      <th>2</th>\n",
       "      <td>0003_01</td>\n",
       "      <td>Europa</td>\n",
       "      <td>False</td>\n",
       "      <td>A/0/S</td>\n",
       "      <td>TRAPPIST-1e</td>\n",
       "      <td>58.0</td>\n",
       "      <td>True</td>\n",
       "      <td>43.0</td>\n",
       "      <td>3576.0</td>\n",
       "      <td>0.0</td>\n",
       "      <td>6715.0</td>\n",
       "      <td>49.0</td>\n",
       "      <td>Altark Susent</td>\n",
       "      <td>False</td>\n",
       "    </tr>\n",
       "    <tr>\n",
       "      <th>3</th>\n",
       "      <td>0003_02</td>\n",
       "      <td>Europa</td>\n",
       "      <td>False</td>\n",
       "      <td>A/0/S</td>\n",
       "      <td>TRAPPIST-1e</td>\n",
       "      <td>33.0</td>\n",
       "      <td>False</td>\n",
       "      <td>0.0</td>\n",
       "      <td>1283.0</td>\n",
       "      <td>371.0</td>\n",
       "      <td>3329.0</td>\n",
       "      <td>193.0</td>\n",
       "      <td>Solam Susent</td>\n",
       "      <td>False</td>\n",
       "    </tr>\n",
       "    <tr>\n",
       "      <th>4</th>\n",
       "      <td>0004_01</td>\n",
       "      <td>Earth</td>\n",
       "      <td>False</td>\n",
       "      <td>F/1/S</td>\n",
       "      <td>TRAPPIST-1e</td>\n",
       "      <td>16.0</td>\n",
       "      <td>False</td>\n",
       "      <td>303.0</td>\n",
       "      <td>70.0</td>\n",
       "      <td>151.0</td>\n",
       "      <td>565.0</td>\n",
       "      <td>2.0</td>\n",
       "      <td>Willy Santantines</td>\n",
       "      <td>True</td>\n",
       "    </tr>\n",
       "  </tbody>\n",
       "</table>\n",
       "</div>"
      ],
      "text/plain": [
       "  PassengerId HomePlanet  CryoSleep  Cabin  Destination   Age    VIP  \\\n",
       "0     0001_01     Europa      False  B/0/P  TRAPPIST-1e  39.0  False   \n",
       "1     0002_01      Earth      False  F/0/S  TRAPPIST-1e  24.0  False   \n",
       "2     0003_01     Europa      False  A/0/S  TRAPPIST-1e  58.0   True   \n",
       "3     0003_02     Europa      False  A/0/S  TRAPPIST-1e  33.0  False   \n",
       "4     0004_01      Earth      False  F/1/S  TRAPPIST-1e  16.0  False   \n",
       "\n",
       "   RoomService  FoodCourt  ShoppingMall     Spa  VRDeck               Name  \\\n",
       "0          0.0        0.0           0.0     0.0     0.0    Maham Ofracculy   \n",
       "1        109.0        9.0          25.0   549.0    44.0       Juanna Vines   \n",
       "2         43.0     3576.0           0.0  6715.0    49.0      Altark Susent   \n",
       "3          0.0     1283.0         371.0  3329.0   193.0       Solam Susent   \n",
       "4        303.0       70.0         151.0   565.0     2.0  Willy Santantines   \n",
       "\n",
       "   Transported  \n",
       "0        False  \n",
       "1         True  \n",
       "2        False  \n",
       "3        False  \n",
       "4         True  "
      ]
     },
     "execution_count": 3,
     "metadata": {},
     "output_type": "execute_result"
    }
   ],
   "source": [
    "df1.head()"
   ]
  },
  {
   "cell_type": "code",
   "execution_count": 4,
   "id": "a381deac",
   "metadata": {},
   "outputs": [
    {
     "name": "stdout",
     "output_type": "stream",
     "text": [
      "<class 'pandas.core.frame.DataFrame'>\n",
      "RangeIndex: 8693 entries, 0 to 8692\n",
      "Data columns (total 14 columns):\n",
      " #   Column        Non-Null Count  Dtype  \n",
      "---  ------        --------------  -----  \n",
      " 0   PassengerId   8693 non-null   object \n",
      " 1   HomePlanet    8693 non-null   object \n",
      " 2   CryoSleep     8693 non-null   bool   \n",
      " 3   Cabin         8693 non-null   object \n",
      " 4   Destination   8693 non-null   object \n",
      " 5   Age           8693 non-null   float64\n",
      " 6   VIP           8693 non-null   bool   \n",
      " 7   RoomService   8693 non-null   float64\n",
      " 8   FoodCourt     8693 non-null   float64\n",
      " 9   ShoppingMall  8693 non-null   float64\n",
      " 10  Spa           8693 non-null   float64\n",
      " 11  VRDeck        8693 non-null   float64\n",
      " 12  Name          8493 non-null   object \n",
      " 13  Transported   8693 non-null   bool   \n",
      "dtypes: bool(3), float64(6), object(5)\n",
      "memory usage: 772.6+ KB\n"
     ]
    }
   ],
   "source": [
    "df1.info()"
   ]
  },
  {
   "cell_type": "code",
   "execution_count": 5,
   "id": "7d716493",
   "metadata": {},
   "outputs": [
    {
     "data": {
      "text/html": [
       "<div>\n",
       "<style scoped>\n",
       "    .dataframe tbody tr th:only-of-type {\n",
       "        vertical-align: middle;\n",
       "    }\n",
       "\n",
       "    .dataframe tbody tr th {\n",
       "        vertical-align: top;\n",
       "    }\n",
       "\n",
       "    .dataframe thead th {\n",
       "        text-align: right;\n",
       "    }\n",
       "</style>\n",
       "<table border=\"1\" class=\"dataframe\">\n",
       "  <thead>\n",
       "    <tr style=\"text-align: right;\">\n",
       "      <th></th>\n",
       "      <th>count</th>\n",
       "      <th>mean</th>\n",
       "      <th>std</th>\n",
       "      <th>min</th>\n",
       "      <th>25%</th>\n",
       "      <th>50%</th>\n",
       "      <th>75%</th>\n",
       "      <th>max</th>\n",
       "    </tr>\n",
       "  </thead>\n",
       "  <tbody>\n",
       "    <tr>\n",
       "      <th>Age</th>\n",
       "      <td>8693.0</td>\n",
       "      <td>28.790291</td>\n",
       "      <td>14.341404</td>\n",
       "      <td>0.0</td>\n",
       "      <td>20.0</td>\n",
       "      <td>27.0</td>\n",
       "      <td>37.0</td>\n",
       "      <td>79.0</td>\n",
       "    </tr>\n",
       "    <tr>\n",
       "      <th>RoomService</th>\n",
       "      <td>8693.0</td>\n",
       "      <td>220.009318</td>\n",
       "      <td>660.519050</td>\n",
       "      <td>0.0</td>\n",
       "      <td>0.0</td>\n",
       "      <td>0.0</td>\n",
       "      <td>41.0</td>\n",
       "      <td>14327.0</td>\n",
       "    </tr>\n",
       "    <tr>\n",
       "      <th>FoodCourt</th>\n",
       "      <td>8693.0</td>\n",
       "      <td>448.434027</td>\n",
       "      <td>1595.790627</td>\n",
       "      <td>0.0</td>\n",
       "      <td>0.0</td>\n",
       "      <td>0.0</td>\n",
       "      <td>61.0</td>\n",
       "      <td>29813.0</td>\n",
       "    </tr>\n",
       "    <tr>\n",
       "      <th>ShoppingMall</th>\n",
       "      <td>8693.0</td>\n",
       "      <td>169.572300</td>\n",
       "      <td>598.007164</td>\n",
       "      <td>0.0</td>\n",
       "      <td>0.0</td>\n",
       "      <td>0.0</td>\n",
       "      <td>22.0</td>\n",
       "      <td>23492.0</td>\n",
       "    </tr>\n",
       "    <tr>\n",
       "      <th>Spa</th>\n",
       "      <td>8693.0</td>\n",
       "      <td>304.588865</td>\n",
       "      <td>1125.562559</td>\n",
       "      <td>0.0</td>\n",
       "      <td>0.0</td>\n",
       "      <td>0.0</td>\n",
       "      <td>53.0</td>\n",
       "      <td>22408.0</td>\n",
       "    </tr>\n",
       "    <tr>\n",
       "      <th>VRDeck</th>\n",
       "      <td>8693.0</td>\n",
       "      <td>298.261820</td>\n",
       "      <td>1134.126417</td>\n",
       "      <td>0.0</td>\n",
       "      <td>0.0</td>\n",
       "      <td>0.0</td>\n",
       "      <td>40.0</td>\n",
       "      <td>24133.0</td>\n",
       "    </tr>\n",
       "  </tbody>\n",
       "</table>\n",
       "</div>"
      ],
      "text/plain": [
       "               count        mean          std  min   25%   50%   75%      max\n",
       "Age           8693.0   28.790291    14.341404  0.0  20.0  27.0  37.0     79.0\n",
       "RoomService   8693.0  220.009318   660.519050  0.0   0.0   0.0  41.0  14327.0\n",
       "FoodCourt     8693.0  448.434027  1595.790627  0.0   0.0   0.0  61.0  29813.0\n",
       "ShoppingMall  8693.0  169.572300   598.007164  0.0   0.0   0.0  22.0  23492.0\n",
       "Spa           8693.0  304.588865  1125.562559  0.0   0.0   0.0  53.0  22408.0\n",
       "VRDeck        8693.0  298.261820  1134.126417  0.0   0.0   0.0  40.0  24133.0"
      ]
     },
     "execution_count": 5,
     "metadata": {},
     "output_type": "execute_result"
    }
   ],
   "source": [
    "df1.describe().transpose()"
   ]
  },
  {
   "cell_type": "code",
   "execution_count": 6,
   "id": "c05c15d4",
   "metadata": {},
   "outputs": [
    {
     "data": {
      "text/plain": [
       "PassengerId       0\n",
       "HomePlanet        0\n",
       "CryoSleep         0\n",
       "Cabin             0\n",
       "Destination       0\n",
       "Age               0\n",
       "VIP               0\n",
       "RoomService       0\n",
       "FoodCourt         0\n",
       "ShoppingMall      0\n",
       "Spa               0\n",
       "VRDeck            0\n",
       "Name            200\n",
       "Transported       0\n",
       "dtype: int64"
      ]
     },
     "execution_count": 6,
     "metadata": {},
     "output_type": "execute_result"
    }
   ],
   "source": [
    "df1.isnull().sum()"
   ]
  },
  {
   "cell_type": "markdown",
   "id": "eae920cd",
   "metadata": {},
   "source": [
    "### Analysis"
   ]
  },
  {
   "cell_type": "code",
   "execution_count": null,
   "id": "b99c59de",
   "metadata": {},
   "outputs": [],
   "source": []
  },
  {
   "cell_type": "code",
   "execution_count": 11,
   "id": "c13808c5",
   "metadata": {
    "scrolled": false
   },
   "outputs": [
    {
     "name": "stdout",
     "output_type": "stream",
     "text": [
      "Age\n",
      "\n",
      "\n",
      "Q1 : 20.0\n",
      "Q2 : 27.0\n",
      "Q3 : 37.0\n",
      "\n",
      "\n",
      "lowe limit  : -5.5\n",
      "upper limit : 62.5\n"
     ]
    },
    {
     "data": {
      "image/png": "[encoded data removed]",
      "text/plain": [
       "<Figure size 432x288 with 1 Axes>"
      ]
     },
     "metadata": {
      "needs_background": "light"
     },
     "output_type": "display_data"
    },
    {
     "name": "stdout",
     "output_type": "stream",
     "text": [
      "\n",
      "\n",
      "======================================================================\n",
      "RoomService\n",
      "\n",
      "\n",
      "Q1 : 0.0\n",
      "Q2 : 0.0\n",
      "Q3 : 41.0\n",
      "\n",
      "\n",
      "lowe limit  : -61.5\n",
      "upper limit : 102.5\n"
     ]
    },
    {
     "data": {
      "image/png": "[encoded data removed]",
      "text/plain": [
       "<Figure size 432x288 with 1 Axes>"
      ]
     },
     "metadata": {
      "needs_background": "light"
     },
     "output_type": "display_data"
    },
    {
     "name": "stdout",
     "output_type": "stream",
     "text": [
      "\n",
      "\n",
      "======================================================================\n",
      "FoodCourt\n",
      "\n",
      "\n",
      "Q1 : 0.0\n",
      "Q2 : 0.0\n",
      "Q3 : 61.0\n",
      "\n",
      "\n",
      "lowe limit  : -91.5\n",
      "upper limit : 152.5\n"
     ]
    },
    {
     "data": {
      "image/png": "[encoded data removed]",
      "text/plain": [
       "<Figure size 432x288 with 1 Axes>"
      ]
     },
     "metadata": {
      "needs_background": "light"
     },
     "output_type": "display_data"
    },
    {
     "name": "stdout",
     "output_type": "stream",
     "text": [
      "\n",
      "\n",
      "======================================================================\n",
      "ShoppingMall\n",
      "\n",
      "\n",
      "Q1 : 0.0\n",
      "Q2 : 0.0\n",
      "Q3 : 22.0\n",
      "\n",
      "\n",
      "lowe limit  : -33.0\n",
      "upper limit : 55.0\n"
     ]
    },
    {
     "data": {
      "image/png": "[encoded data removed]",
      "text/plain": [
       "<Figure size 432x288 with 1 Axes>"
      ]
     },
     "metadata": {
      "needs_background": "light"
     },
     "output_type": "display_data"
    },
    {
     "name": "stdout",
     "output_type": "stream",
     "text": [
      "\n",
      "\n",
      "======================================================================\n",
      "Spa\n",
      "\n",
      "\n",
      "Q1 : 0.0\n",
      "Q2 : 0.0\n",
      "Q3 : 53.0\n",
      "\n",
      "\n",
      "lowe limit  : -79.5\n",
      "upper limit : 132.5\n"
     ]
    },
    {
     "data": {
      "image/png": "[encoded data removed]",
      "text/plain": [
       "<Figure size 432x288 with 1 Axes>"
      ]
     },
     "metadata": {
      "needs_background": "light"
     },
     "output_type": "display_data"
    },
    {
     "name": "stdout",
     "output_type": "stream",
     "text": [
      "\n",
      "\n",
      "======================================================================\n",
      "VRDeck\n",
      "\n",
      "\n",
      "Q1 : 0.0\n",
      "Q2 : 0.0\n",
      "Q3 : 40.0\n",
      "\n",
      "\n",
      "lowe limit  : -60.0\n",
      "upper limit : 100.0\n"
     ]
    },
    {
     "data": {
      "image/png": "[encoded data removed]",
      "text/plain": [
       "<Figure size 432x288 with 1 Axes>"
      ]
     },
     "metadata": {
      "needs_background": "light"
     },
     "output_type": "display_data"
    },
    {
     "name": "stdout",
     "output_type": "stream",
     "text": [
      "\n",
      "\n",
      "======================================================================\n"
     ]
    }
   ],
   "source": [
    "for i in df1.columns:\n",
    "    if (df1[i].dtypes != 'object') and (df1[i].dtypes != 'bool'):\n",
    "        print(i)\n",
    "        print('\\n')\n",
    "        #sns.histplot(df1[i])\n",
    "        #plt.grid()\n",
    "        #plt.show()\n",
    "        q1 = np.percentile(df1[i],25,interpolation='midpoint')\n",
    "        q2 = np.percentile(df1[i],50,interpolation='midpoint')\n",
    "        q3 = np.percentile(df1[i],75,interpolation='midpoint')\n",
    "        iqr = (q3-q1) # Interquartile range\n",
    "        upper_lim = q3+(1.5*iqr)\n",
    "        lowe_lim = q1-(1.5*iqr)\n",
    "        print('Q1 :',q1)\n",
    "        print('Q2 :',q2)\n",
    "        print('Q3 :',q3)\n",
    "        print('\\n\\nlowe limit  :',round(lowe_lim,2))\n",
    "        print('upper limit :',round(upper_lim,2))\n",
    "        sns.boxplot(df1[i])\n",
    "        plt.grid()\n",
    "        plt.show()\n",
    "        print('\\n')\n",
    "        print('='*70)"
   ]
  },
  {
   "cell_type": "code",
   "execution_count": null,
   "id": "7ce6f9bf",
   "metadata": {},
   "outputs": [],
   "source": []
  },
  {
   "cell_type": "code",
   "execution_count": 12,
   "id": "49f267cf",
   "metadata": {},
   "outputs": [],
   "source": [
    "# df1.head()"
   ]
  },
  {
   "cell_type": "code",
   "execution_count": 14,
   "id": "1e21e46b",
   "metadata": {},
   "outputs": [],
   "source": [
    "imp_feats = []"
   ]
  },
  {
   "cell_type": "code",
   "execution_count": 15,
   "id": "9736e495",
   "metadata": {},
   "outputs": [
    {
     "data": {
      "image/png": "[encoded data removed]",
      "text/plain": [
       "<Figure size 720x360 with 2 Axes>"
      ]
     },
     "metadata": {
      "needs_background": "light"
     },
     "output_type": "display_data"
    }
   ],
   "source": [
    "plt.figure(figsize=(10,5))\n",
    "sns.heatmap(df1.corr(),annot=True)\n",
    "plt.show()"
   ]
  },
  {
   "cell_type": "code",
   "execution_count": null,
   "id": "25d44e19",
   "metadata": {},
   "outputs": [],
   "source": []
  },
  {
   "cell_type": "markdown",
   "id": "d6e43d0b",
   "metadata": {},
   "source": [
    "### Lets see if the HomePlanet played a role on getting transported"
   ]
  },
  {
   "cell_type": "code",
   "execution_count": 16,
   "id": "f4cda611",
   "metadata": {},
   "outputs": [],
   "source": [
    "planet_trans = pd.DataFrame(df1.HomePlanet.groupby(df1.Transported).value_counts())\n",
    "planet_trans['percentage'] = round(pd.DataFrame(df1.HomePlanet.groupby(df1.Transported).value_counts(normalize=True))*100,2)"
   ]
  },
  {
   "cell_type": "code",
   "execution_count": 17,
   "id": "2adce803",
   "metadata": {},
   "outputs": [],
   "source": [
    "op = pd.DataFrame(df1.Transported.groupby(df1.HomePlanet).value_counts())\n",
    "op['percentage'] = round(pd.DataFrame(df1.Transported.groupby(df1.HomePlanet).value_counts(normalize=True))*100,2)"
   ]
  },
  {
   "cell_type": "code",
   "execution_count": 18,
   "id": "15c9ca24",
   "metadata": {},
   "outputs": [
    {
     "data": {
      "text/html": [
       "<div>\n",
       "<style scoped>\n",
       "    .dataframe tbody tr th:only-of-type {\n",
       "        vertical-align: middle;\n",
       "    }\n",
       "\n",
       "    .dataframe tbody tr th {\n",
       "        vertical-align: top;\n",
       "    }\n",
       "\n",
       "    .dataframe thead th {\n",
       "        text-align: right;\n",
       "    }\n",
       "</style>\n",
       "<table border=\"1\" class=\"dataframe\">\n",
       "  <thead>\n",
       "    <tr style=\"text-align: right;\">\n",
       "      <th></th>\n",
       "      <th></th>\n",
       "      <th>count</th>\n",
       "      <th>percentage</th>\n",
       "    </tr>\n",
       "    <tr>\n",
       "      <th>HomePlanet</th>\n",
       "      <th>Transported</th>\n",
       "      <th></th>\n",
       "      <th></th>\n",
       "    </tr>\n",
       "  </thead>\n",
       "  <tbody>\n",
       "    <tr>\n",
       "      <th rowspan=\"2\" valign=\"top\">Earth</th>\n",
       "      <th>False</th>\n",
       "      <td>2749</td>\n",
       "      <td>57.24</td>\n",
       "    </tr>\n",
       "    <tr>\n",
       "      <th>True</th>\n",
       "      <td>2054</td>\n",
       "      <td>42.76</td>\n",
       "    </tr>\n",
       "    <tr>\n",
       "      <th rowspan=\"2\" valign=\"top\">Europa</th>\n",
       "      <th>True</th>\n",
       "      <td>1404</td>\n",
       "      <td>65.88</td>\n",
       "    </tr>\n",
       "    <tr>\n",
       "      <th>False</th>\n",
       "      <td>727</td>\n",
       "      <td>34.12</td>\n",
       "    </tr>\n",
       "    <tr>\n",
       "      <th rowspan=\"2\" valign=\"top\">Mars</th>\n",
       "      <th>True</th>\n",
       "      <td>920</td>\n",
       "      <td>52.30</td>\n",
       "    </tr>\n",
       "    <tr>\n",
       "      <th>False</th>\n",
       "      <td>839</td>\n",
       "      <td>47.70</td>\n",
       "    </tr>\n",
       "  </tbody>\n",
       "</table>\n",
       "</div>"
      ],
      "text/plain": [
       "                        count  percentage\n",
       "HomePlanet Transported                   \n",
       "Earth      False         2749       57.24\n",
       "           True          2054       42.76\n",
       "Europa     True          1404       65.88\n",
       "           False          727       34.12\n",
       "Mars       True           920       52.30\n",
       "           False          839       47.70"
      ]
     },
     "execution_count": 18,
     "metadata": {},
     "output_type": "execute_result"
    }
   ],
   "source": [
    "op.rename(columns={'Transported':'count'})"
   ]
  },
  {
   "cell_type": "code",
   "execution_count": 19,
   "id": "579ebdcd",
   "metadata": {},
   "outputs": [],
   "source": [
    "# planet_trans"
   ]
  },
  {
   "cell_type": "markdown",
   "id": "e7805a43",
   "metadata": {},
   "source": [
    "### Inference :\n",
    "1. we can see that 65% of the passengers from Europa, 57% from earth and 52% from mars have been transported.\n",
    "2. We can assume that the probability of getting transported is higher if the passenger is from Europa."
   ]
  },
  {
   "cell_type": "code",
   "execution_count": 20,
   "id": "bee69998",
   "metadata": {},
   "outputs": [],
   "source": [
    "imp_feats.append('Home_plannet')"
   ]
  },
  {
   "cell_type": "code",
   "execution_count": null,
   "id": "90b7187b",
   "metadata": {},
   "outputs": [],
   "source": []
  },
  {
   "cell_type": "markdown",
   "id": "615edb0d",
   "metadata": {},
   "source": [
    "### Lets see if Cryo played a role"
   ]
  },
  {
   "cell_type": "code",
   "execution_count": 21,
   "id": "d9d212b7",
   "metadata": {},
   "outputs": [],
   "source": [
    "cry_trans = pd.DataFrame(df1.Transported.groupby(df1.CryoSleep).value_counts())\n",
    "cry_trans['percentage'] = round(pd.DataFrame(df1.Transported.groupby(df1.CryoSleep).value_counts(normalize=True))*100,2)"
   ]
  },
  {
   "cell_type": "code",
   "execution_count": 22,
   "id": "98a4c927",
   "metadata": {},
   "outputs": [],
   "source": [
    "op = pd.DataFrame(df1.CryoSleep.groupby(df1.Transported).value_counts())\n",
    "op['percentage'] = round(pd.DataFrame(df1.CryoSleep.groupby(df1.Transported).value_counts(normalize=True))*100,2)"
   ]
  },
  {
   "cell_type": "code",
   "execution_count": 23,
   "id": "07e51e2f",
   "metadata": {},
   "outputs": [
    {
     "data": {
      "text/html": [
       "<div>\n",
       "<style scoped>\n",
       "    .dataframe tbody tr th:only-of-type {\n",
       "        vertical-align: middle;\n",
       "    }\n",
       "\n",
       "    .dataframe tbody tr th {\n",
       "        vertical-align: top;\n",
       "    }\n",
       "\n",
       "    .dataframe thead th {\n",
       "        text-align: right;\n",
       "    }\n",
       "</style>\n",
       "<table border=\"1\" class=\"dataframe\">\n",
       "  <thead>\n",
       "    <tr style=\"text-align: right;\">\n",
       "      <th></th>\n",
       "      <th></th>\n",
       "      <th>CryoSleep</th>\n",
       "      <th>percentage</th>\n",
       "    </tr>\n",
       "    <tr>\n",
       "      <th>Transported</th>\n",
       "      <th>CryoSleep</th>\n",
       "      <th></th>\n",
       "      <th></th>\n",
       "    </tr>\n",
       "  </thead>\n",
       "  <tbody>\n",
       "    <tr>\n",
       "      <th rowspan=\"2\" valign=\"top\">False</th>\n",
       "      <th>False</th>\n",
       "      <td>3761</td>\n",
       "      <td>87.16</td>\n",
       "    </tr>\n",
       "    <tr>\n",
       "      <th>True</th>\n",
       "      <td>554</td>\n",
       "      <td>12.84</td>\n",
       "    </tr>\n",
       "    <tr>\n",
       "      <th rowspan=\"2\" valign=\"top\">True</th>\n",
       "      <th>True</th>\n",
       "      <td>2483</td>\n",
       "      <td>56.72</td>\n",
       "    </tr>\n",
       "    <tr>\n",
       "      <th>False</th>\n",
       "      <td>1895</td>\n",
       "      <td>43.28</td>\n",
       "    </tr>\n",
       "  </tbody>\n",
       "</table>\n",
       "</div>"
      ],
      "text/plain": [
       "                       CryoSleep  percentage\n",
       "Transported CryoSleep                       \n",
       "False       False           3761       87.16\n",
       "            True             554       12.84\n",
       "True        True            2483       56.72\n",
       "            False           1895       43.28"
      ]
     },
     "execution_count": 23,
     "metadata": {},
     "output_type": "execute_result"
    }
   ],
   "source": [
    "op"
   ]
  },
  {
   "cell_type": "code",
   "execution_count": 24,
   "id": "86ed6ece",
   "metadata": {},
   "outputs": [
    {
     "data": {
      "text/html": [
       "<div>\n",
       "<style scoped>\n",
       "    .dataframe tbody tr th:only-of-type {\n",
       "        vertical-align: middle;\n",
       "    }\n",
       "\n",
       "    .dataframe tbody tr th {\n",
       "        vertical-align: top;\n",
       "    }\n",
       "\n",
       "    .dataframe thead th {\n",
       "        text-align: right;\n",
       "    }\n",
       "</style>\n",
       "<table border=\"1\" class=\"dataframe\">\n",
       "  <thead>\n",
       "    <tr style=\"text-align: right;\">\n",
       "      <th></th>\n",
       "      <th></th>\n",
       "      <th>Transported</th>\n",
       "      <th>percentage</th>\n",
       "    </tr>\n",
       "    <tr>\n",
       "      <th>CryoSleep</th>\n",
       "      <th>Transported</th>\n",
       "      <th></th>\n",
       "      <th></th>\n",
       "    </tr>\n",
       "  </thead>\n",
       "  <tbody>\n",
       "    <tr>\n",
       "      <th rowspan=\"2\" valign=\"top\">False</th>\n",
       "      <th>False</th>\n",
       "      <td>3761</td>\n",
       "      <td>66.50</td>\n",
       "    </tr>\n",
       "    <tr>\n",
       "      <th>True</th>\n",
       "      <td>1895</td>\n",
       "      <td>33.50</td>\n",
       "    </tr>\n",
       "    <tr>\n",
       "      <th rowspan=\"2\" valign=\"top\">True</th>\n",
       "      <th>True</th>\n",
       "      <td>2483</td>\n",
       "      <td>81.76</td>\n",
       "    </tr>\n",
       "    <tr>\n",
       "      <th>False</th>\n",
       "      <td>554</td>\n",
       "      <td>18.24</td>\n",
       "    </tr>\n",
       "  </tbody>\n",
       "</table>\n",
       "</div>"
      ],
      "text/plain": [
       "                       Transported  percentage\n",
       "CryoSleep Transported                         \n",
       "False     False               3761       66.50\n",
       "          True                1895       33.50\n",
       "True      True                2483       81.76\n",
       "          False                554       18.24"
      ]
     },
     "execution_count": 24,
     "metadata": {},
     "output_type": "execute_result"
    }
   ],
   "source": [
    "cry_trans"
   ]
  },
  {
   "cell_type": "markdown",
   "id": "83749c2f",
   "metadata": {},
   "source": [
    "### Inference:\n",
    "    1. We can see that 81% of people who went into cryo are Transported. \n",
    "    2. We can also infer that only 33% of people who did not go into Cryo got transported. \n",
    "    3. We can also see that, out of all the people who did not get transported, 87% of them did not go into cryo!  \n",
    "#### *This basically means, A passenger's probability of getting transported is significantly higher when he goes into cryosleep!*"
   ]
  },
  {
   "cell_type": "code",
   "execution_count": 25,
   "id": "2ef003f5",
   "metadata": {},
   "outputs": [],
   "source": [
    "imp_feats.append('cryo')"
   ]
  },
  {
   "cell_type": "code",
   "execution_count": null,
   "id": "823fa69f",
   "metadata": {},
   "outputs": [],
   "source": []
  },
  {
   "cell_type": "markdown",
   "id": "34691ef8",
   "metadata": {},
   "source": [
    "### Let's see if the Cabin played a role in the passengers getting transported! \n",
    "Based on the position of cabins, we can infer some results! "
   ]
  },
  {
   "cell_type": "markdown",
   "id": "ac764c71",
   "metadata": {},
   "source": [
    "### we are splitting the cabin into 2, cabin deck and cabin side"
   ]
  },
  {
   "cell_type": "code",
   "execution_count": 26,
   "id": "43c134e0",
   "metadata": {},
   "outputs": [],
   "source": [
    "# df1.Cabin.value_counts()"
   ]
  },
  {
   "cell_type": "code",
   "execution_count": 27,
   "id": "3ff0f48c",
   "metadata": {},
   "outputs": [],
   "source": [
    "cc = []\n",
    "for i in df1.Cabin:\n",
    "    cc.append(i.split('/')[0])\n",
    "df1['Cabin_Deck'] = cc"
   ]
  },
  {
   "cell_type": "code",
   "execution_count": 28,
   "id": "b8352674",
   "metadata": {},
   "outputs": [],
   "source": [
    "col = df1.pop('Cabin_Deck')\n",
    "df1.insert(4,'Cabin_Deck',col)"
   ]
  },
  {
   "cell_type": "code",
   "execution_count": 29,
   "id": "f220cf42",
   "metadata": {},
   "outputs": [],
   "source": [
    "cc_trans = pd.DataFrame(df1.Transported.groupby(df1.Cabin_Deck).value_counts(normalize=False))\n",
    "cc_trans['percentage'] = round(pd.DataFrame(df1.Transported.groupby(df1.Cabin_Deck).value_counts(normalize=True))*100,2)"
   ]
  },
  {
   "cell_type": "code",
   "execution_count": 30,
   "id": "3b7c9e55",
   "metadata": {},
   "outputs": [
    {
     "data": {
      "text/html": [
       "<div>\n",
       "<style scoped>\n",
       "    .dataframe tbody tr th:only-of-type {\n",
       "        vertical-align: middle;\n",
       "    }\n",
       "\n",
       "    .dataframe tbody tr th {\n",
       "        vertical-align: top;\n",
       "    }\n",
       "\n",
       "    .dataframe thead th {\n",
       "        text-align: right;\n",
       "    }\n",
       "</style>\n",
       "<table border=\"1\" class=\"dataframe\">\n",
       "  <thead>\n",
       "    <tr style=\"text-align: right;\">\n",
       "      <th></th>\n",
       "      <th></th>\n",
       "      <th>Transported</th>\n",
       "      <th>percentage</th>\n",
       "    </tr>\n",
       "    <tr>\n",
       "      <th>Cabin_Deck</th>\n",
       "      <th>Transported</th>\n",
       "      <th></th>\n",
       "      <th></th>\n",
       "    </tr>\n",
       "  </thead>\n",
       "  <tbody>\n",
       "    <tr>\n",
       "      <th rowspan=\"2\" valign=\"top\">A</th>\n",
       "      <th>False</th>\n",
       "      <td>129</td>\n",
       "      <td>50.39</td>\n",
       "    </tr>\n",
       "    <tr>\n",
       "      <th>True</th>\n",
       "      <td>127</td>\n",
       "      <td>49.61</td>\n",
       "    </tr>\n",
       "    <tr>\n",
       "      <th rowspan=\"2\" valign=\"top\">B</th>\n",
       "      <th>True</th>\n",
       "      <td>572</td>\n",
       "      <td>73.43</td>\n",
       "    </tr>\n",
       "    <tr>\n",
       "      <th>False</th>\n",
       "      <td>207</td>\n",
       "      <td>26.57</td>\n",
       "    </tr>\n",
       "    <tr>\n",
       "      <th rowspan=\"2\" valign=\"top\">C</th>\n",
       "      <th>True</th>\n",
       "      <td>508</td>\n",
       "      <td>68.01</td>\n",
       "    </tr>\n",
       "    <tr>\n",
       "      <th>False</th>\n",
       "      <td>239</td>\n",
       "      <td>31.99</td>\n",
       "    </tr>\n",
       "    <tr>\n",
       "      <th rowspan=\"2\" valign=\"top\">D</th>\n",
       "      <th>False</th>\n",
       "      <td>271</td>\n",
       "      <td>56.69</td>\n",
       "    </tr>\n",
       "    <tr>\n",
       "      <th>True</th>\n",
       "      <td>207</td>\n",
       "      <td>43.31</td>\n",
       "    </tr>\n",
       "    <tr>\n",
       "      <th rowspan=\"2\" valign=\"top\">E</th>\n",
       "      <th>False</th>\n",
       "      <td>563</td>\n",
       "      <td>64.27</td>\n",
       "    </tr>\n",
       "    <tr>\n",
       "      <th>True</th>\n",
       "      <td>313</td>\n",
       "      <td>35.73</td>\n",
       "    </tr>\n",
       "    <tr>\n",
       "      <th rowspan=\"2\" valign=\"top\">F</th>\n",
       "      <th>False</th>\n",
       "      <td>1565</td>\n",
       "      <td>56.01</td>\n",
       "    </tr>\n",
       "    <tr>\n",
       "      <th>True</th>\n",
       "      <td>1229</td>\n",
       "      <td>43.99</td>\n",
       "    </tr>\n",
       "    <tr>\n",
       "      <th rowspan=\"2\" valign=\"top\">G</th>\n",
       "      <th>True</th>\n",
       "      <td>1421</td>\n",
       "      <td>51.52</td>\n",
       "    </tr>\n",
       "    <tr>\n",
       "      <th>False</th>\n",
       "      <td>1337</td>\n",
       "      <td>48.48</td>\n",
       "    </tr>\n",
       "    <tr>\n",
       "      <th rowspan=\"2\" valign=\"top\">T</th>\n",
       "      <th>False</th>\n",
       "      <td>4</td>\n",
       "      <td>80.00</td>\n",
       "    </tr>\n",
       "    <tr>\n",
       "      <th>True</th>\n",
       "      <td>1</td>\n",
       "      <td>20.00</td>\n",
       "    </tr>\n",
       "  </tbody>\n",
       "</table>\n",
       "</div>"
      ],
      "text/plain": [
       "                        Transported  percentage\n",
       "Cabin_Deck Transported                         \n",
       "A          False                129       50.39\n",
       "           True                 127       49.61\n",
       "B          True                 572       73.43\n",
       "           False                207       26.57\n",
       "C          True                 508       68.01\n",
       "           False                239       31.99\n",
       "D          False                271       56.69\n",
       "           True                 207       43.31\n",
       "E          False                563       64.27\n",
       "           True                 313       35.73\n",
       "F          False               1565       56.01\n",
       "           True                1229       43.99\n",
       "G          True                1421       51.52\n",
       "           False               1337       48.48\n",
       "T          False                  4       80.00\n",
       "           True                   1       20.00"
      ]
     },
     "execution_count": 30,
     "metadata": {},
     "output_type": "execute_result"
    }
   ],
   "source": [
    "cc_trans"
   ]
  },
  {
   "cell_type": "markdown",
   "id": "18e54052",
   "metadata": {},
   "source": [
    "### Inferences : \n",
    "1. 73% of passengers who were in CabinCatg B have been Transported.\n",
    "2. 68% of passengers in Cabin Catg. C have been transported\n",
    "3. 64% of passengers in CabinCatg E have not been transported.\n",
    "4. importantly, 80% of people in Cabin Catg. T have not been Transported. \n",
    "\n",
    "\n",
    "*To sum things up, passengers from B and C have a higher probability of being transported while passenger from E and T have a very low probability of getting transported.*"
   ]
  },
  {
   "cell_type": "code",
   "execution_count": 31,
   "id": "765ec5c0",
   "metadata": {},
   "outputs": [],
   "source": [
    "imp_feats.append('Cabin_Deck')"
   ]
  },
  {
   "cell_type": "code",
   "execution_count": null,
   "id": "cf028db8",
   "metadata": {},
   "outputs": [],
   "source": []
  },
  {
   "cell_type": "markdown",
   "id": "e25a9992",
   "metadata": {},
   "source": [
    "### Lets see if the side of the cabin makes a difference"
   ]
  },
  {
   "cell_type": "code",
   "execution_count": 32,
   "id": "1eb1b203",
   "metadata": {},
   "outputs": [],
   "source": [
    "side = []\n",
    "for i in df1.Cabin:\n",
    "    side.append(i.split('/')[2])\n",
    "df1['Cabin_Side'] = side    "
   ]
  },
  {
   "cell_type": "code",
   "execution_count": 33,
   "id": "fec0ab2c",
   "metadata": {},
   "outputs": [],
   "source": [
    "col = df1.pop('Cabin_Side')\n",
    "df1.insert(5,'Cabin_Side',col)"
   ]
  },
  {
   "cell_type": "code",
   "execution_count": 34,
   "id": "c155ed31",
   "metadata": {},
   "outputs": [],
   "source": [
    "cs_trans = pd.DataFrame(df1.Transported.groupby(df1.Cabin_Side).value_counts())\n",
    "cs_trans['percentage'] = round(pd.DataFrame(df1.Transported.groupby(df1.Cabin_Side).value_counts(normalize=True))*100,2)"
   ]
  },
  {
   "cell_type": "code",
   "execution_count": 35,
   "id": "82732c21",
   "metadata": {},
   "outputs": [
    {
     "data": {
      "text/html": [
       "<div>\n",
       "<style scoped>\n",
       "    .dataframe tbody tr th:only-of-type {\n",
       "        vertical-align: middle;\n",
       "    }\n",
       "\n",
       "    .dataframe tbody tr th {\n",
       "        vertical-align: top;\n",
       "    }\n",
       "\n",
       "    .dataframe thead th {\n",
       "        text-align: right;\n",
       "    }\n",
       "</style>\n",
       "<table border=\"1\" class=\"dataframe\">\n",
       "  <thead>\n",
       "    <tr style=\"text-align: right;\">\n",
       "      <th></th>\n",
       "      <th></th>\n",
       "      <th>Transported</th>\n",
       "      <th>percentage</th>\n",
       "    </tr>\n",
       "    <tr>\n",
       "      <th>Cabin_Side</th>\n",
       "      <th>Transported</th>\n",
       "      <th></th>\n",
       "      <th></th>\n",
       "    </tr>\n",
       "  </thead>\n",
       "  <tbody>\n",
       "    <tr>\n",
       "      <th rowspan=\"2\" valign=\"top\">P</th>\n",
       "      <th>False</th>\n",
       "      <td>2407</td>\n",
       "      <td>54.64</td>\n",
       "    </tr>\n",
       "    <tr>\n",
       "      <th>True</th>\n",
       "      <td>1998</td>\n",
       "      <td>45.36</td>\n",
       "    </tr>\n",
       "    <tr>\n",
       "      <th rowspan=\"2\" valign=\"top\">S</th>\n",
       "      <th>True</th>\n",
       "      <td>2380</td>\n",
       "      <td>55.50</td>\n",
       "    </tr>\n",
       "    <tr>\n",
       "      <th>False</th>\n",
       "      <td>1908</td>\n",
       "      <td>44.50</td>\n",
       "    </tr>\n",
       "  </tbody>\n",
       "</table>\n",
       "</div>"
      ],
      "text/plain": [
       "                        Transported  percentage\n",
       "Cabin_Side Transported                         \n",
       "P          False               2407       54.64\n",
       "           True                1998       45.36\n",
       "S          True                2380       55.50\n",
       "           False               1908       44.50"
      ]
     },
     "execution_count": 35,
     "metadata": {},
     "output_type": "execute_result"
    }
   ],
   "source": [
    "cs_trans"
   ]
  },
  {
   "cell_type": "code",
   "execution_count": null,
   "id": "69099316",
   "metadata": {},
   "outputs": [],
   "source": []
  },
  {
   "cell_type": "markdown",
   "id": "bce7fa9b",
   "metadata": {},
   "source": [
    "### Let's now create a feature combining the Cabin deck and side"
   ]
  },
  {
   "cell_type": "code",
   "execution_count": 36,
   "id": "508c9208",
   "metadata": {},
   "outputs": [],
   "source": [
    "df1['Cabin_DS'] = df1['Cabin_Deck'] + df1['Cabin_Side']"
   ]
  },
  {
   "cell_type": "code",
   "execution_count": 37,
   "id": "2242aedb",
   "metadata": {},
   "outputs": [],
   "source": [
    "col = df1.pop('Cabin_DS')\n",
    "df1.insert(6,'Cabin_DS',col)"
   ]
  },
  {
   "cell_type": "code",
   "execution_count": 38,
   "id": "7f98ca96",
   "metadata": {},
   "outputs": [],
   "source": [
    "cds_trans = pd.DataFrame(df1.Transported.groupby(df1.Cabin_DS).value_counts())\n",
    "cds_trans['percentage'] = round(pd.DataFrame(df1.Transported.groupby(df1.Cabin_DS).value_counts(normalize=True))*100,2)"
   ]
  },
  {
   "cell_type": "code",
   "execution_count": 39,
   "id": "7803f14a",
   "metadata": {},
   "outputs": [
    {
     "data": {
      "text/html": [
       "<div>\n",
       "<style scoped>\n",
       "    .dataframe tbody tr th:only-of-type {\n",
       "        vertical-align: middle;\n",
       "    }\n",
       "\n",
       "    .dataframe tbody tr th {\n",
       "        vertical-align: top;\n",
       "    }\n",
       "\n",
       "    .dataframe thead th {\n",
       "        text-align: right;\n",
       "    }\n",
       "</style>\n",
       "<table border=\"1\" class=\"dataframe\">\n",
       "  <thead>\n",
       "    <tr style=\"text-align: right;\">\n",
       "      <th></th>\n",
       "      <th></th>\n",
       "      <th>Transported</th>\n",
       "      <th>percentage</th>\n",
       "    </tr>\n",
       "    <tr>\n",
       "      <th>Cabin_DS</th>\n",
       "      <th>Transported</th>\n",
       "      <th></th>\n",
       "      <th></th>\n",
       "    </tr>\n",
       "  </thead>\n",
       "  <tbody>\n",
       "    <tr>\n",
       "      <th rowspan=\"2\" valign=\"top\">AP</th>\n",
       "      <th>False</th>\n",
       "      <td>66</td>\n",
       "      <td>56.41</td>\n",
       "    </tr>\n",
       "    <tr>\n",
       "      <th>True</th>\n",
       "      <td>51</td>\n",
       "      <td>43.59</td>\n",
       "    </tr>\n",
       "    <tr>\n",
       "      <th rowspan=\"2\" valign=\"top\">AS</th>\n",
       "      <th>True</th>\n",
       "      <td>76</td>\n",
       "      <td>54.68</td>\n",
       "    </tr>\n",
       "    <tr>\n",
       "      <th>False</th>\n",
       "      <td>63</td>\n",
       "      <td>45.32</td>\n",
       "    </tr>\n",
       "    <tr>\n",
       "      <th rowspan=\"2\" valign=\"top\">BP</th>\n",
       "      <th>True</th>\n",
       "      <td>238</td>\n",
       "      <td>67.42</td>\n",
       "    </tr>\n",
       "    <tr>\n",
       "      <th>False</th>\n",
       "      <td>115</td>\n",
       "      <td>32.58</td>\n",
       "    </tr>\n",
       "    <tr>\n",
       "      <th rowspan=\"2\" valign=\"top\">BS</th>\n",
       "      <th>True</th>\n",
       "      <td>334</td>\n",
       "      <td>78.40</td>\n",
       "    </tr>\n",
       "    <tr>\n",
       "      <th>False</th>\n",
       "      <td>92</td>\n",
       "      <td>21.60</td>\n",
       "    </tr>\n",
       "    <tr>\n",
       "      <th rowspan=\"2\" valign=\"top\">CP</th>\n",
       "      <th>True</th>\n",
       "      <td>198</td>\n",
       "      <td>58.06</td>\n",
       "    </tr>\n",
       "    <tr>\n",
       "      <th>False</th>\n",
       "      <td>143</td>\n",
       "      <td>41.94</td>\n",
       "    </tr>\n",
       "    <tr>\n",
       "      <th rowspan=\"2\" valign=\"top\">CS</th>\n",
       "      <th>True</th>\n",
       "      <td>310</td>\n",
       "      <td>76.35</td>\n",
       "    </tr>\n",
       "    <tr>\n",
       "      <th>False</th>\n",
       "      <td>96</td>\n",
       "      <td>23.65</td>\n",
       "    </tr>\n",
       "    <tr>\n",
       "      <th rowspan=\"2\" valign=\"top\">DP</th>\n",
       "      <th>False</th>\n",
       "      <td>148</td>\n",
       "      <td>59.68</td>\n",
       "    </tr>\n",
       "    <tr>\n",
       "      <th>True</th>\n",
       "      <td>100</td>\n",
       "      <td>40.32</td>\n",
       "    </tr>\n",
       "    <tr>\n",
       "      <th rowspan=\"2\" valign=\"top\">DS</th>\n",
       "      <th>False</th>\n",
       "      <td>123</td>\n",
       "      <td>53.48</td>\n",
       "    </tr>\n",
       "    <tr>\n",
       "      <th>True</th>\n",
       "      <td>107</td>\n",
       "      <td>46.52</td>\n",
       "    </tr>\n",
       "    <tr>\n",
       "      <th rowspan=\"2\" valign=\"top\">EP</th>\n",
       "      <th>False</th>\n",
       "      <td>282</td>\n",
       "      <td>65.73</td>\n",
       "    </tr>\n",
       "    <tr>\n",
       "      <th>True</th>\n",
       "      <td>147</td>\n",
       "      <td>34.27</td>\n",
       "    </tr>\n",
       "    <tr>\n",
       "      <th rowspan=\"2\" valign=\"top\">ES</th>\n",
       "      <th>False</th>\n",
       "      <td>281</td>\n",
       "      <td>62.86</td>\n",
       "    </tr>\n",
       "    <tr>\n",
       "      <th>True</th>\n",
       "      <td>166</td>\n",
       "      <td>37.14</td>\n",
       "    </tr>\n",
       "    <tr>\n",
       "      <th rowspan=\"2\" valign=\"top\">FP</th>\n",
       "      <th>False</th>\n",
       "      <td>847</td>\n",
       "      <td>58.90</td>\n",
       "    </tr>\n",
       "    <tr>\n",
       "      <th>True</th>\n",
       "      <td>591</td>\n",
       "      <td>41.10</td>\n",
       "    </tr>\n",
       "    <tr>\n",
       "      <th rowspan=\"2\" valign=\"top\">FS</th>\n",
       "      <th>False</th>\n",
       "      <td>718</td>\n",
       "      <td>52.95</td>\n",
       "    </tr>\n",
       "    <tr>\n",
       "      <th>True</th>\n",
       "      <td>638</td>\n",
       "      <td>47.05</td>\n",
       "    </tr>\n",
       "    <tr>\n",
       "      <th rowspan=\"2\" valign=\"top\">GP</th>\n",
       "      <th>False</th>\n",
       "      <td>803</td>\n",
       "      <td>54.44</td>\n",
       "    </tr>\n",
       "    <tr>\n",
       "      <th>True</th>\n",
       "      <td>672</td>\n",
       "      <td>45.56</td>\n",
       "    </tr>\n",
       "    <tr>\n",
       "      <th rowspan=\"2\" valign=\"top\">GS</th>\n",
       "      <th>True</th>\n",
       "      <td>749</td>\n",
       "      <td>58.38</td>\n",
       "    </tr>\n",
       "    <tr>\n",
       "      <th>False</th>\n",
       "      <td>534</td>\n",
       "      <td>41.62</td>\n",
       "    </tr>\n",
       "    <tr>\n",
       "      <th rowspan=\"2\" valign=\"top\">TP</th>\n",
       "      <th>False</th>\n",
       "      <td>3</td>\n",
       "      <td>75.00</td>\n",
       "    </tr>\n",
       "    <tr>\n",
       "      <th>True</th>\n",
       "      <td>1</td>\n",
       "      <td>25.00</td>\n",
       "    </tr>\n",
       "    <tr>\n",
       "      <th>TS</th>\n",
       "      <th>False</th>\n",
       "      <td>1</td>\n",
       "      <td>100.00</td>\n",
       "    </tr>\n",
       "  </tbody>\n",
       "</table>\n",
       "</div>"
      ],
      "text/plain": [
       "                      Transported  percentage\n",
       "Cabin_DS Transported                         \n",
       "AP       False                 66       56.41\n",
       "         True                  51       43.59\n",
       "AS       True                  76       54.68\n",
       "         False                 63       45.32\n",
       "BP       True                 238       67.42\n",
       "         False                115       32.58\n",
       "BS       True                 334       78.40\n",
       "         False                 92       21.60\n",
       "CP       True                 198       58.06\n",
       "         False                143       41.94\n",
       "CS       True                 310       76.35\n",
       "         False                 96       23.65\n",
       "DP       False                148       59.68\n",
       "         True                 100       40.32\n",
       "DS       False                123       53.48\n",
       "         True                 107       46.52\n",
       "EP       False                282       65.73\n",
       "         True                 147       34.27\n",
       "ES       False                281       62.86\n",
       "         True                 166       37.14\n",
       "FP       False                847       58.90\n",
       "         True                 591       41.10\n",
       "FS       False                718       52.95\n",
       "         True                 638       47.05\n",
       "GP       False                803       54.44\n",
       "         True                 672       45.56\n",
       "GS       True                 749       58.38\n",
       "         False                534       41.62\n",
       "TP       False                  3       75.00\n",
       "         True                   1       25.00\n",
       "TS       False                  1      100.00"
      ]
     },
     "execution_count": 39,
     "metadata": {},
     "output_type": "execute_result"
    }
   ],
   "source": [
    "cds_trans"
   ]
  },
  {
   "cell_type": "markdown",
   "id": "cf8d6090",
   "metadata": {},
   "source": [
    "### Inferences :\n",
    "1. Our inferences from the Deck and Transportation and the Side with Transportation are making sense now. \n",
    "2. Passengers from deck B, Side S and deck C, side S have a higher probabilty of being transported.\n",
    "3. Passengers from Deck E from both sides have been transported. \n",
    "4. 100% of the passenger(s) (1/1) from deck T, Side S has not been transported. \n",
    "5. 75% of the passengers from deck T and side P have not been transported. "
   ]
  },
  {
   "cell_type": "code",
   "execution_count": null,
   "id": "ea50e644",
   "metadata": {},
   "outputs": [],
   "source": []
  },
  {
   "cell_type": "markdown",
   "id": "04ffa1cc",
   "metadata": {},
   "source": [
    "### Did the Passenger group play a role ?"
   ]
  },
  {
   "cell_type": "code",
   "execution_count": 40,
   "id": "31c6deb3",
   "metadata": {},
   "outputs": [],
   "source": [
    "pg = []\n",
    "for i in df1.PassengerId:\n",
    "    pg.append(i.split('_')[0])\n",
    "df1['Passenger_group'] = pg"
   ]
  },
  {
   "cell_type": "code",
   "execution_count": 41,
   "id": "b663827d",
   "metadata": {},
   "outputs": [],
   "source": [
    "col = df1.pop('Passenger_group')\n",
    "df1.insert(1,'Passenger_group',col)"
   ]
  },
  {
   "cell_type": "markdown",
   "id": "debe2527",
   "metadata": {},
   "source": [
    "### Did passenger Number play a role ?"
   ]
  },
  {
   "cell_type": "code",
   "execution_count": 42,
   "id": "12179067",
   "metadata": {},
   "outputs": [],
   "source": [
    "pn = []\n",
    "for i in df1.PassengerId:\n",
    "    pn.append(i.split('_')[1])\n",
    "df1['Passenger_No'] = pn"
   ]
  },
  {
   "cell_type": "code",
   "execution_count": 43,
   "id": "7c834d13",
   "metadata": {},
   "outputs": [],
   "source": [
    "col = df1.pop('Passenger_No')\n",
    "df1.insert(1,'Passenger_No',col)"
   ]
  },
  {
   "cell_type": "code",
   "execution_count": 44,
   "id": "41c8cd8e",
   "metadata": {},
   "outputs": [],
   "source": [
    "pn_trans = pd.DataFrame(df1.Transported.groupby(df1.Passenger_No).value_counts())\n",
    "pn_trans['percentage'] = round(pd.DataFrame(df1.Transported.groupby(df1.Passenger_No).value_counts(normalize=True))*100,2)"
   ]
  },
  {
   "cell_type": "code",
   "execution_count": 45,
   "id": "28c7108e",
   "metadata": {},
   "outputs": [
    {
     "data": {
      "text/html": [
       "<div>\n",
       "<style scoped>\n",
       "    .dataframe tbody tr th:only-of-type {\n",
       "        vertical-align: middle;\n",
       "    }\n",
       "\n",
       "    .dataframe tbody tr th {\n",
       "        vertical-align: top;\n",
       "    }\n",
       "\n",
       "    .dataframe thead th {\n",
       "        text-align: right;\n",
       "    }\n",
       "</style>\n",
       "<table border=\"1\" class=\"dataframe\">\n",
       "  <thead>\n",
       "    <tr style=\"text-align: right;\">\n",
       "      <th></th>\n",
       "      <th></th>\n",
       "      <th>Transported</th>\n",
       "      <th>percentage</th>\n",
       "    </tr>\n",
       "    <tr>\n",
       "      <th>Passenger_No</th>\n",
       "      <th>Transported</th>\n",
       "      <th></th>\n",
       "      <th></th>\n",
       "    </tr>\n",
       "  </thead>\n",
       "  <tbody>\n",
       "    <tr>\n",
       "      <th rowspan=\"2\" valign=\"top\">01</th>\n",
       "      <th>False</th>\n",
       "      <td>3258</td>\n",
       "      <td>52.40</td>\n",
       "    </tr>\n",
       "    <tr>\n",
       "      <th>True</th>\n",
       "      <td>2959</td>\n",
       "      <td>47.60</td>\n",
       "    </tr>\n",
       "    <tr>\n",
       "      <th rowspan=\"2\" valign=\"top\">02</th>\n",
       "      <th>True</th>\n",
       "      <td>789</td>\n",
       "      <td>55.88</td>\n",
       "    </tr>\n",
       "    <tr>\n",
       "      <th>False</th>\n",
       "      <td>623</td>\n",
       "      <td>44.12</td>\n",
       "    </tr>\n",
       "    <tr>\n",
       "      <th rowspan=\"2\" valign=\"top\">03</th>\n",
       "      <th>True</th>\n",
       "      <td>353</td>\n",
       "      <td>61.82</td>\n",
       "    </tr>\n",
       "    <tr>\n",
       "      <th>False</th>\n",
       "      <td>218</td>\n",
       "      <td>38.18</td>\n",
       "    </tr>\n",
       "    <tr>\n",
       "      <th rowspan=\"2\" valign=\"top\">04</th>\n",
       "      <th>True</th>\n",
       "      <td>137</td>\n",
       "      <td>59.31</td>\n",
       "    </tr>\n",
       "    <tr>\n",
       "      <th>False</th>\n",
       "      <td>94</td>\n",
       "      <td>40.69</td>\n",
       "    </tr>\n",
       "    <tr>\n",
       "      <th rowspan=\"2\" valign=\"top\">05</th>\n",
       "      <th>True</th>\n",
       "      <td>70</td>\n",
       "      <td>54.69</td>\n",
       "    </tr>\n",
       "    <tr>\n",
       "      <th>False</th>\n",
       "      <td>58</td>\n",
       "      <td>45.31</td>\n",
       "    </tr>\n",
       "    <tr>\n",
       "      <th rowspan=\"2\" valign=\"top\">06</th>\n",
       "      <th>True</th>\n",
       "      <td>41</td>\n",
       "      <td>54.67</td>\n",
       "    </tr>\n",
       "    <tr>\n",
       "      <th>False</th>\n",
       "      <td>34</td>\n",
       "      <td>45.33</td>\n",
       "    </tr>\n",
       "    <tr>\n",
       "      <th rowspan=\"2\" valign=\"top\">07</th>\n",
       "      <th>False</th>\n",
       "      <td>23</td>\n",
       "      <td>50.00</td>\n",
       "    </tr>\n",
       "    <tr>\n",
       "      <th>True</th>\n",
       "      <td>23</td>\n",
       "      <td>50.00</td>\n",
       "    </tr>\n",
       "    <tr>\n",
       "      <th rowspan=\"2\" valign=\"top\">08</th>\n",
       "      <th>False</th>\n",
       "      <td>7</td>\n",
       "      <td>53.85</td>\n",
       "    </tr>\n",
       "    <tr>\n",
       "      <th>True</th>\n",
       "      <td>6</td>\n",
       "      <td>46.15</td>\n",
       "    </tr>\n",
       "  </tbody>\n",
       "</table>\n",
       "</div>"
      ],
      "text/plain": [
       "                          Transported  percentage\n",
       "Passenger_No Transported                         \n",
       "01           False               3258       52.40\n",
       "             True                2959       47.60\n",
       "02           True                 789       55.88\n",
       "             False                623       44.12\n",
       "03           True                 353       61.82\n",
       "             False                218       38.18\n",
       "04           True                 137       59.31\n",
       "             False                 94       40.69\n",
       "05           True                  70       54.69\n",
       "             False                 58       45.31\n",
       "06           True                  41       54.67\n",
       "             False                 34       45.33\n",
       "07           False                 23       50.00\n",
       "             True                  23       50.00\n",
       "08           False                  7       53.85\n",
       "             True                   6       46.15"
      ]
     },
     "execution_count": 45,
     "metadata": {},
     "output_type": "execute_result"
    }
   ],
   "source": [
    "pn_trans"
   ]
  },
  {
   "cell_type": "markdown",
   "id": "0424fb58",
   "metadata": {},
   "source": [
    "### Passenger Number is not a significant factor"
   ]
  },
  {
   "cell_type": "code",
   "execution_count": null,
   "id": "308c8dce",
   "metadata": {},
   "outputs": [],
   "source": []
  },
  {
   "cell_type": "markdown",
   "id": "59133413",
   "metadata": {},
   "source": [
    "### Lets see if Destination is of a passenger make any significant difference"
   ]
  },
  {
   "cell_type": "code",
   "execution_count": 46,
   "id": "1e92bbf7",
   "metadata": {},
   "outputs": [],
   "source": [
    "# df1.Destination.value_counts()"
   ]
  },
  {
   "cell_type": "code",
   "execution_count": 47,
   "id": "63811db3",
   "metadata": {},
   "outputs": [],
   "source": [
    "dest_trans = pd.DataFrame(df1.Transported.groupby(df1.Destination).value_counts())\n",
    "dest_trans['percentage'] = round(pd.DataFrame(df1.Transported.groupby(df1.Destination).value_counts(normalize=True))*100,2)"
   ]
  },
  {
   "cell_type": "code",
   "execution_count": 48,
   "id": "ebdbed5b",
   "metadata": {},
   "outputs": [
    {
     "data": {
      "text/html": [
       "<div>\n",
       "<style scoped>\n",
       "    .dataframe tbody tr th:only-of-type {\n",
       "        vertical-align: middle;\n",
       "    }\n",
       "\n",
       "    .dataframe tbody tr th {\n",
       "        vertical-align: top;\n",
       "    }\n",
       "\n",
       "    .dataframe thead th {\n",
       "        text-align: right;\n",
       "    }\n",
       "</style>\n",
       "<table border=\"1\" class=\"dataframe\">\n",
       "  <thead>\n",
       "    <tr style=\"text-align: right;\">\n",
       "      <th></th>\n",
       "      <th></th>\n",
       "      <th>Transported</th>\n",
       "      <th>percentage</th>\n",
       "    </tr>\n",
       "    <tr>\n",
       "      <th>Destination</th>\n",
       "      <th>Transported</th>\n",
       "      <th></th>\n",
       "      <th></th>\n",
       "    </tr>\n",
       "  </thead>\n",
       "  <tbody>\n",
       "    <tr>\n",
       "      <th rowspan=\"2\" valign=\"top\">55 Cancri e</th>\n",
       "      <th>True</th>\n",
       "      <td>1098</td>\n",
       "      <td>61.00</td>\n",
       "    </tr>\n",
       "    <tr>\n",
       "      <th>False</th>\n",
       "      <td>702</td>\n",
       "      <td>39.00</td>\n",
       "    </tr>\n",
       "    <tr>\n",
       "      <th rowspan=\"2\" valign=\"top\">PSO J318.5-22</th>\n",
       "      <th>True</th>\n",
       "      <td>401</td>\n",
       "      <td>50.38</td>\n",
       "    </tr>\n",
       "    <tr>\n",
       "      <th>False</th>\n",
       "      <td>395</td>\n",
       "      <td>49.62</td>\n",
       "    </tr>\n",
       "    <tr>\n",
       "      <th rowspan=\"2\" valign=\"top\">TRAPPIST-1e</th>\n",
       "      <th>False</th>\n",
       "      <td>3218</td>\n",
       "      <td>52.78</td>\n",
       "    </tr>\n",
       "    <tr>\n",
       "      <th>True</th>\n",
       "      <td>2879</td>\n",
       "      <td>47.22</td>\n",
       "    </tr>\n",
       "  </tbody>\n",
       "</table>\n",
       "</div>"
      ],
      "text/plain": [
       "                           Transported  percentage\n",
       "Destination   Transported                         \n",
       "55 Cancri e   True                1098       61.00\n",
       "              False                702       39.00\n",
       "PSO J318.5-22 True                 401       50.38\n",
       "              False                395       49.62\n",
       "TRAPPIST-1e   False               3218       52.78\n",
       "              True                2879       47.22"
      ]
     },
     "execution_count": 48,
     "metadata": {},
     "output_type": "execute_result"
    }
   ],
   "source": [
    "dest_trans"
   ]
  },
  {
   "cell_type": "markdown",
   "id": "a28c9111",
   "metadata": {},
   "source": [
    "### Inference : 61% of Passengers who were travelling to \"55 Cancrl e\" were transported."
   ]
  },
  {
   "cell_type": "code",
   "execution_count": null,
   "id": "7c385cc2",
   "metadata": {},
   "outputs": [],
   "source": []
  },
  {
   "cell_type": "markdown",
   "id": "b8da174c",
   "metadata": {},
   "source": [
    "### Does a VIP passenger have a significant chance of getting transported/ not transported ?"
   ]
  },
  {
   "cell_type": "code",
   "execution_count": 49,
   "id": "c6add01f",
   "metadata": {},
   "outputs": [],
   "source": [
    "vip_trans = pd.DataFrame(df1.Transported.groupby(df1.VIP).value_counts())\n",
    "vip_trans['percentage'] = round(pd.DataFrame(df1.Transported.groupby(df1.VIP).value_counts(normalize=True))*100,2)"
   ]
  },
  {
   "cell_type": "code",
   "execution_count": 50,
   "id": "65c0df32",
   "metadata": {},
   "outputs": [
    {
     "data": {
      "text/html": [
       "<div>\n",
       "<style scoped>\n",
       "    .dataframe tbody tr th:only-of-type {\n",
       "        vertical-align: middle;\n",
       "    }\n",
       "\n",
       "    .dataframe tbody tr th {\n",
       "        vertical-align: top;\n",
       "    }\n",
       "\n",
       "    .dataframe thead th {\n",
       "        text-align: right;\n",
       "    }\n",
       "</style>\n",
       "<table border=\"1\" class=\"dataframe\">\n",
       "  <thead>\n",
       "    <tr style=\"text-align: right;\">\n",
       "      <th></th>\n",
       "      <th></th>\n",
       "      <th>Transported</th>\n",
       "      <th>percentage</th>\n",
       "    </tr>\n",
       "    <tr>\n",
       "      <th>VIP</th>\n",
       "      <th>Transported</th>\n",
       "      <th></th>\n",
       "      <th></th>\n",
       "    </tr>\n",
       "  </thead>\n",
       "  <tbody>\n",
       "    <tr>\n",
       "      <th rowspan=\"2\" valign=\"top\">False</th>\n",
       "      <th>True</th>\n",
       "      <td>4302</td>\n",
       "      <td>50.65</td>\n",
       "    </tr>\n",
       "    <tr>\n",
       "      <th>False</th>\n",
       "      <td>4192</td>\n",
       "      <td>49.35</td>\n",
       "    </tr>\n",
       "    <tr>\n",
       "      <th rowspan=\"2\" valign=\"top\">True</th>\n",
       "      <th>False</th>\n",
       "      <td>123</td>\n",
       "      <td>61.81</td>\n",
       "    </tr>\n",
       "    <tr>\n",
       "      <th>True</th>\n",
       "      <td>76</td>\n",
       "      <td>38.19</td>\n",
       "    </tr>\n",
       "  </tbody>\n",
       "</table>\n",
       "</div>"
      ],
      "text/plain": [
       "                   Transported  percentage\n",
       "VIP   Transported                         \n",
       "False True                4302       50.65\n",
       "      False               4192       49.35\n",
       "True  False                123       61.81\n",
       "      True                  76       38.19"
      ]
     },
     "execution_count": 50,
     "metadata": {},
     "output_type": "execute_result"
    }
   ],
   "source": [
    "vip_trans"
   ]
  },
  {
   "cell_type": "markdown",
   "id": "5ede5968",
   "metadata": {},
   "source": [
    "### Inference :\n",
    "1. 61% of the VIP passengers have been transported while only 50% of the Non VIP passengers have been transported."
   ]
  },
  {
   "cell_type": "code",
   "execution_count": null,
   "id": "930e9f0b",
   "metadata": {},
   "outputs": [],
   "source": []
  },
  {
   "cell_type": "code",
   "execution_count": 52,
   "id": "cc9551a6",
   "metadata": {},
   "outputs": [],
   "source": [
    "cryo_cab = pd.DataFrame(df1.CryoSleep.groupby(df1.Cabin).value_counts(normalize=False))\n",
    "cryo_cab['percentage'] = round(pd.DataFrame(df1.CryoSleep.groupby(df1.Cabin).value_counts(normalize=False)))"
   ]
  },
  {
   "cell_type": "code",
   "execution_count": 53,
   "id": "ce7c9789",
   "metadata": {},
   "outputs": [],
   "source": [
    "# cryo_cab.head(60)"
   ]
  },
  {
   "cell_type": "code",
   "execution_count": null,
   "id": "6a8f84d1",
   "metadata": {},
   "outputs": [],
   "source": []
  },
  {
   "cell_type": "markdown",
   "id": "6fd6f17e",
   "metadata": {},
   "source": [
    "### average cost of Room service WRT transportation"
   ]
  },
  {
   "cell_type": "code",
   "execution_count": 54,
   "id": "d24bcbd7",
   "metadata": {},
   "outputs": [
    {
     "name": "stdout",
     "output_type": "stream",
     "text": [
      "             RoomService  percentage\n",
      "Transported                         \n",
      "False         380.425261       86.01\n",
      "True           61.901782       13.99\n"
     ]
    },
    {
     "data": {
      "image/png": "[encoded data removed]",
      "text/plain": [
       "<Figure size 432x288 with 1 Axes>"
      ]
     },
     "metadata": {
      "needs_background": "light"
     },
     "output_type": "display_data"
    }
   ],
   "source": [
    "rs_mean_trans = pd.DataFrame(df1.RoomService.groupby(df1.Transported).mean())\n",
    "rs_mean_trans['percentage'] = round(rs_mean_trans['RoomService'] / sum(rs_mean_trans['RoomService'])*100,2)\n",
    "plt.bar(rs_mean_trans.index , rs_mean_trans.RoomService,color='b')\n",
    "plt.grid()\n",
    "plt.xticks(ticks=[0,1],labels=['False','True'])\n",
    "print(rs_mean_trans)\n",
    "plt.show()"
   ]
  },
  {
   "cell_type": "markdown",
   "id": "1bb6cf12",
   "metadata": {},
   "source": [
    "### Inference :  we can clearly see here that the people who got transported spent significantly lower (on average) on RoomServices than the people who did not get transported"
   ]
  },
  {
   "cell_type": "code",
   "execution_count": null,
   "id": "2c03f831",
   "metadata": {},
   "outputs": [],
   "source": []
  },
  {
   "cell_type": "markdown",
   "id": "3ad699ee",
   "metadata": {},
   "source": [
    "### Does the age make the difference"
   ]
  },
  {
   "cell_type": "code",
   "execution_count": 55,
   "id": "2fad8696",
   "metadata": {},
   "outputs": [
    {
     "data": {
      "text/plain": [
       "Transported\n",
       "False    29.862572\n",
       "True     27.733440\n",
       "Name: Age, dtype: float64"
      ]
     },
     "execution_count": 55,
     "metadata": {},
     "output_type": "execute_result"
    }
   ],
   "source": [
    "df1.Age.groupby(df1.Transported).mean()"
   ]
  },
  {
   "cell_type": "markdown",
   "id": "6c1f2080",
   "metadata": {},
   "source": [
    "### No big difference in terms of age"
   ]
  },
  {
   "cell_type": "markdown",
   "id": "0a74cc53",
   "metadata": {},
   "source": [
    "### Lets create a new feature, Age Category"
   ]
  },
  {
   "cell_type": "code",
   "execution_count": 56,
   "id": "d7866ec2",
   "metadata": {},
   "outputs": [],
   "source": [
    "act = []\n",
    "for i in df1.Age:\n",
    "    if i <= 20:\n",
    "        act.append('0-20')\n",
    "    elif 21<= i <= 40:\n",
    "        act.append('21-40')\n",
    "    elif 41<= i <= 60:\n",
    "        act.append('41-60')\n",
    "    elif i > 60:\n",
    "        act.append('60+')"
   ]
  },
  {
   "cell_type": "code",
   "execution_count": 57,
   "id": "0a09d77e",
   "metadata": {},
   "outputs": [],
   "source": [
    "df1['Age_Catg'] = act"
   ]
  },
  {
   "cell_type": "code",
   "execution_count": 58,
   "id": "8a2e707d",
   "metadata": {},
   "outputs": [
    {
     "data": {
      "image/png": "[encoded data removed]",
      "text/plain": [
       "<Figure size 432x288 with 1 Axes>"
      ]
     },
     "metadata": {
      "needs_background": "light"
     },
     "output_type": "display_data"
    },
    {
     "name": "stdout",
     "output_type": "stream",
     "text": [
      "Age_Catg  Transported\n",
      "0-20      True           0.573717\n",
      "          False          0.426283\n",
      "21-40     False          0.529711\n",
      "          True           0.470289\n",
      "41-60     False          0.504964\n",
      "          True           0.495036\n",
      "60+       False          0.527273\n",
      "          True           0.472727\n",
      "Name: Transported, dtype: float64\n"
     ]
    }
   ],
   "source": [
    "sns.countplot(df1.Age_Catg,hue=df1.Transported)\n",
    "plt.show()\n",
    "print(df1.Transported.groupby(df1.Age_Catg).value_counts(normalize=True))"
   ]
  },
  {
   "cell_type": "code",
   "execution_count": null,
   "id": "7a134e28",
   "metadata": {},
   "outputs": [],
   "source": []
  },
  {
   "cell_type": "code",
   "execution_count": 59,
   "id": "d238501e",
   "metadata": {},
   "outputs": [],
   "source": [
    "fc_trans = pd.DataFrame(df1.FoodCourt.groupby(df1.Transported).mean())\n",
    "fc_trans['percentage'] = round(fc_trans['FoodCourt']/sum(fc_trans['FoodCourt'])*100,2)"
   ]
  },
  {
   "cell_type": "code",
   "execution_count": 60,
   "id": "f11db756",
   "metadata": {},
   "outputs": [
    {
     "data": {
      "text/html": [
       "<div>\n",
       "<style scoped>\n",
       "    .dataframe tbody tr th:only-of-type {\n",
       "        vertical-align: middle;\n",
       "    }\n",
       "\n",
       "    .dataframe tbody tr th {\n",
       "        vertical-align: top;\n",
       "    }\n",
       "\n",
       "    .dataframe thead th {\n",
       "        text-align: right;\n",
       "    }\n",
       "</style>\n",
       "<table border=\"1\" class=\"dataframe\">\n",
       "  <thead>\n",
       "    <tr style=\"text-align: right;\">\n",
       "      <th></th>\n",
       "      <th>FoodCourt</th>\n",
       "      <th>percentage</th>\n",
       "    </tr>\n",
       "    <tr>\n",
       "      <th>Transported</th>\n",
       "      <th></th>\n",
       "      <th></th>\n",
       "    </tr>\n",
       "  </thead>\n",
       "  <tbody>\n",
       "    <tr>\n",
       "      <th>False</th>\n",
       "      <td>375.167555</td>\n",
       "      <td>41.88</td>\n",
       "    </tr>\n",
       "    <tr>\n",
       "      <th>True</th>\n",
       "      <td>520.646185</td>\n",
       "      <td>58.12</td>\n",
       "    </tr>\n",
       "  </tbody>\n",
       "</table>\n",
       "</div>"
      ],
      "text/plain": [
       "              FoodCourt  percentage\n",
       "Transported                        \n",
       "False        375.167555       41.88\n",
       "True         520.646185       58.12"
      ]
     },
     "execution_count": 60,
     "metadata": {},
     "output_type": "execute_result"
    }
   ],
   "source": [
    "fc_trans"
   ]
  },
  {
   "cell_type": "markdown",
   "id": "83597035",
   "metadata": {},
   "source": [
    "### We can see, people who got transported have spent more on Food Courts than those who did not get transported"
   ]
  },
  {
   "cell_type": "code",
   "execution_count": null,
   "id": "3f1a0902",
   "metadata": {},
   "outputs": [],
   "source": []
  },
  {
   "cell_type": "markdown",
   "id": "1eaed84b",
   "metadata": {},
   "source": [
    "### Shopping Mall vs Transportation"
   ]
  },
  {
   "cell_type": "code",
   "execution_count": 61,
   "id": "b4b3b869",
   "metadata": {},
   "outputs": [],
   "source": [
    "sm_trans = pd.DataFrame(df1.ShoppingMall.groupby(df1.Transported).mean())\n",
    "sm_trans['percentage'] = round(sm_trans['ShoppingMall']/sum(sm_trans['ShoppingMall'])*100,2)"
   ]
  },
  {
   "cell_type": "code",
   "execution_count": 62,
   "id": "966bb050",
   "metadata": {},
   "outputs": [
    {
     "data": {
      "text/html": [
       "<div>\n",
       "<style scoped>\n",
       "    .dataframe tbody tr th:only-of-type {\n",
       "        vertical-align: middle;\n",
       "    }\n",
       "\n",
       "    .dataframe tbody tr th {\n",
       "        vertical-align: top;\n",
       "    }\n",
       "\n",
       "    .dataframe thead th {\n",
       "        text-align: right;\n",
       "    }\n",
       "</style>\n",
       "<table border=\"1\" class=\"dataframe\">\n",
       "  <thead>\n",
       "    <tr style=\"text-align: right;\">\n",
       "      <th></th>\n",
       "      <th>ShoppingMall</th>\n",
       "      <th>percentage</th>\n",
       "    </tr>\n",
       "    <tr>\n",
       "      <th>Transported</th>\n",
       "      <th></th>\n",
       "      <th></th>\n",
       "    </tr>\n",
       "  </thead>\n",
       "  <tbody>\n",
       "    <tr>\n",
       "      <th>False</th>\n",
       "      <td>163.915875</td>\n",
       "      <td>48.34</td>\n",
       "    </tr>\n",
       "    <tr>\n",
       "      <th>True</th>\n",
       "      <td>175.147328</td>\n",
       "      <td>51.66</td>\n",
       "    </tr>\n",
       "  </tbody>\n",
       "</table>\n",
       "</div>"
      ],
      "text/plain": [
       "             ShoppingMall  percentage\n",
       "Transported                          \n",
       "False          163.915875       48.34\n",
       "True           175.147328       51.66"
      ]
     },
     "execution_count": 62,
     "metadata": {},
     "output_type": "execute_result"
    }
   ],
   "source": [
    "sm_trans"
   ]
  },
  {
   "cell_type": "markdown",
   "id": "ecca8aac",
   "metadata": {},
   "source": [
    "### No significant difference"
   ]
  },
  {
   "cell_type": "code",
   "execution_count": null,
   "id": "c91fad81",
   "metadata": {},
   "outputs": [],
   "source": []
  },
  {
   "cell_type": "markdown",
   "id": "646deb17",
   "metadata": {},
   "source": [
    "### Spa and its effects on getting transported"
   ]
  },
  {
   "cell_type": "code",
   "execution_count": 63,
   "id": "158495e4",
   "metadata": {},
   "outputs": [],
   "source": [
    "spa_trans = pd.DataFrame(df1.Spa.groupby(df1.Transported).mean())\n",
    "spa_trans['percentage'] = round(spa_trans['Spa']/sum(spa_trans['Spa'])*100,2)"
   ]
  },
  {
   "cell_type": "code",
   "execution_count": 66,
   "id": "b10d7911",
   "metadata": {},
   "outputs": [
    {
     "data": {
      "image/png": "[encoded data removed]",
      "text/plain": [
       "<Figure size 432x288 with 1 Axes>"
      ]
     },
     "metadata": {
      "needs_background": "light"
     },
     "output_type": "display_data"
    },
    {
     "data": {
      "text/html": [
       "<div>\n",
       "<style scoped>\n",
       "    .dataframe tbody tr th:only-of-type {\n",
       "        vertical-align: middle;\n",
       "    }\n",
       "\n",
       "    .dataframe tbody tr th {\n",
       "        vertical-align: top;\n",
       "    }\n",
       "\n",
       "    .dataframe thead th {\n",
       "        text-align: right;\n",
       "    }\n",
       "</style>\n",
       "<table border=\"1\" class=\"dataframe\">\n",
       "  <thead>\n",
       "    <tr style=\"text-align: right;\">\n",
       "      <th></th>\n",
       "      <th>Spa</th>\n",
       "      <th>percentage</th>\n",
       "    </tr>\n",
       "    <tr>\n",
       "      <th>Transported</th>\n",
       "      <th></th>\n",
       "      <th></th>\n",
       "    </tr>\n",
       "  </thead>\n",
       "  <tbody>\n",
       "    <tr>\n",
       "      <th>False</th>\n",
       "      <td>552.349479</td>\n",
       "      <td>90.14</td>\n",
       "    </tr>\n",
       "    <tr>\n",
       "      <th>True</th>\n",
       "      <td>60.393559</td>\n",
       "      <td>9.86</td>\n",
       "    </tr>\n",
       "  </tbody>\n",
       "</table>\n",
       "</div>"
      ],
      "text/plain": [
       "                    Spa  percentage\n",
       "Transported                        \n",
       "False        552.349479       90.14\n",
       "True          60.393559        9.86"
      ]
     },
     "execution_count": 66,
     "metadata": {},
     "output_type": "execute_result"
    }
   ],
   "source": [
    "sns.barplot(spa_trans.index, spa_trans.Spa)\n",
    "plt.grid()\n",
    "plt.show()\n",
    "spa_trans"
   ]
  },
  {
   "cell_type": "markdown",
   "id": "77c3713c",
   "metadata": {},
   "source": [
    "### We can see a significant difference here, People who spent more (on average) for Spa did not get transported."
   ]
  },
  {
   "cell_type": "code",
   "execution_count": null,
   "id": "f7c4f679",
   "metadata": {},
   "outputs": [],
   "source": []
  },
  {
   "cell_type": "markdown",
   "id": "2c284a92",
   "metadata": {},
   "source": [
    "### VR Deck and the effects of passengers getting transported"
   ]
  },
  {
   "cell_type": "code",
   "execution_count": 67,
   "id": "64f456bb",
   "metadata": {},
   "outputs": [],
   "source": [
    "vrd_trans = pd.DataFrame(df1.VRDeck.groupby(df1.Transported).mean())\n",
    "vrd_trans['percentage'] = round(vrd_trans['VRDeck']/sum(vrd_trans['VRDeck'])*100,2)"
   ]
  },
  {
   "cell_type": "code",
   "execution_count": 68,
   "id": "2878a175",
   "metadata": {},
   "outputs": [
    {
     "data": {
      "text/html": [
       "<div>\n",
       "<style scoped>\n",
       "    .dataframe tbody tr th:only-of-type {\n",
       "        vertical-align: middle;\n",
       "    }\n",
       "\n",
       "    .dataframe tbody tr th {\n",
       "        vertical-align: top;\n",
       "    }\n",
       "\n",
       "    .dataframe thead th {\n",
       "        text-align: right;\n",
       "    }\n",
       "</style>\n",
       "<table border=\"1\" class=\"dataframe\">\n",
       "  <thead>\n",
       "    <tr style=\"text-align: right;\">\n",
       "      <th></th>\n",
       "      <th>VRDeck</th>\n",
       "      <th>percentage</th>\n",
       "    </tr>\n",
       "    <tr>\n",
       "      <th>Transported</th>\n",
       "      <th></th>\n",
       "      <th></th>\n",
       "    </tr>\n",
       "  </thead>\n",
       "  <tbody>\n",
       "    <tr>\n",
       "      <th>False</th>\n",
       "      <td>532.291078</td>\n",
       "      <td>88.73</td>\n",
       "    </tr>\n",
       "    <tr>\n",
       "      <th>True</th>\n",
       "      <td>67.600274</td>\n",
       "      <td>11.27</td>\n",
       "    </tr>\n",
       "  </tbody>\n",
       "</table>\n",
       "</div>"
      ],
      "text/plain": [
       "                 VRDeck  percentage\n",
       "Transported                        \n",
       "False        532.291078       88.73\n",
       "True          67.600274       11.27"
      ]
     },
     "execution_count": 68,
     "metadata": {},
     "output_type": "execute_result"
    }
   ],
   "source": [
    "vrd_trans"
   ]
  },
  {
   "cell_type": "markdown",
   "id": "3bbae37d",
   "metadata": {},
   "source": [
    "### Another inference here is that, people who spent more money on the VRDeck did not get transported."
   ]
  },
  {
   "cell_type": "markdown",
   "id": "d0c780ce",
   "metadata": {},
   "source": [
    "### Let's now create a feature, \"Total expenditure\" suming up the cost factors of RoomService, Spa and VRDeck"
   ]
  },
  {
   "cell_type": "code",
   "execution_count": 69,
   "id": "79ba3414",
   "metadata": {},
   "outputs": [],
   "source": [
    "df1['Total_Expenses'] = df1['RoomService'] + df1['Spa'] + df1['VRDeck'] \n",
    "## Excluding Shopping Mall and Food court as it did not give us a significant difference"
   ]
  },
  {
   "cell_type": "code",
   "execution_count": null,
   "id": "8365dcc9",
   "metadata": {},
   "outputs": [],
   "source": []
  },
  {
   "cell_type": "code",
   "execution_count": 70,
   "id": "f2d8cbae",
   "metadata": {},
   "outputs": [],
   "source": [
    "te_trans = pd.DataFrame(df1.Total_Expenses.groupby(df1.Transported).mean())\n",
    "te_trans['percentage'] = round(te_trans['Total_Expenses'] / sum(te_trans['Total_Expenses'])*100,2)"
   ]
  },
  {
   "cell_type": "code",
   "execution_count": 71,
   "id": "fb9ab15d",
   "metadata": {},
   "outputs": [
    {
     "data": {
      "text/html": [
       "<div>\n",
       "<style scoped>\n",
       "    .dataframe tbody tr th:only-of-type {\n",
       "        vertical-align: middle;\n",
       "    }\n",
       "\n",
       "    .dataframe tbody tr th {\n",
       "        vertical-align: top;\n",
       "    }\n",
       "\n",
       "    .dataframe thead th {\n",
       "        text-align: right;\n",
       "    }\n",
       "</style>\n",
       "<table border=\"1\" class=\"dataframe\">\n",
       "  <thead>\n",
       "    <tr style=\"text-align: right;\">\n",
       "      <th></th>\n",
       "      <th>Total_Expenses</th>\n",
       "      <th>percentage</th>\n",
       "    </tr>\n",
       "    <tr>\n",
       "      <th>Transported</th>\n",
       "      <th></th>\n",
       "      <th></th>\n",
       "    </tr>\n",
       "  </thead>\n",
       "  <tbody>\n",
       "    <tr>\n",
       "      <th>False</th>\n",
       "      <td>1465.065817</td>\n",
       "      <td>88.53</td>\n",
       "    </tr>\n",
       "    <tr>\n",
       "      <th>True</th>\n",
       "      <td>189.895614</td>\n",
       "      <td>11.47</td>\n",
       "    </tr>\n",
       "  </tbody>\n",
       "</table>\n",
       "</div>"
      ],
      "text/plain": [
       "             Total_Expenses  percentage\n",
       "Transported                            \n",
       "False           1465.065817       88.53\n",
       "True             189.895614       11.47"
      ]
     },
     "execution_count": 71,
     "metadata": {},
     "output_type": "execute_result"
    }
   ],
   "source": [
    "te_trans"
   ]
  },
  {
   "cell_type": "markdown",
   "id": "e5dfbb5c",
   "metadata": {},
   "source": [
    "## We can now see a significant difference here! 88.5% of the People who have spent less (on average) in the RoomService, Spa and on the VRDeck have been transported! and people who have on an average spent significantly higher than these 3 areas have not been transported. "
   ]
  },
  {
   "cell_type": "code",
   "execution_count": null,
   "id": "deea4141",
   "metadata": {},
   "outputs": [],
   "source": []
  },
  {
   "cell_type": "code",
   "execution_count": null,
   "id": "80140ab5",
   "metadata": {},
   "outputs": [],
   "source": []
  },
  {
   "cell_type": "markdown",
   "id": "2232fe55",
   "metadata": {},
   "source": [
    "### Lets now arrange our data"
   ]
  },
  {
   "cell_type": "code",
   "execution_count": 72,
   "id": "c19b9841",
   "metadata": {},
   "outputs": [],
   "source": [
    "col = df1.pop('Age_Catg')\n",
    "df1.insert(11,'Age_Catg',col)"
   ]
  },
  {
   "cell_type": "code",
   "execution_count": 73,
   "id": "ea66af81",
   "metadata": {},
   "outputs": [],
   "source": [
    "col = df1.pop('Total_Expenses')\n",
    "df1.insert(18,'Total_Expenses',col)"
   ]
  },
  {
   "cell_type": "code",
   "execution_count": null,
   "id": "5f819158",
   "metadata": {},
   "outputs": [],
   "source": []
  },
  {
   "cell_type": "code",
   "execution_count": 74,
   "id": "0ba53169",
   "metadata": {},
   "outputs": [
    {
     "data": {
      "text/html": [
       "<div>\n",
       "<style scoped>\n",
       "    .dataframe tbody tr th:only-of-type {\n",
       "        vertical-align: middle;\n",
       "    }\n",
       "\n",
       "    .dataframe tbody tr th {\n",
       "        vertical-align: top;\n",
       "    }\n",
       "\n",
       "    .dataframe thead th {\n",
       "        text-align: right;\n",
       "    }\n",
       "</style>\n",
       "<table border=\"1\" class=\"dataframe\">\n",
       "  <thead>\n",
       "    <tr style=\"text-align: right;\">\n",
       "      <th></th>\n",
       "      <th>PassengerId</th>\n",
       "      <th>Passenger_No</th>\n",
       "      <th>Passenger_group</th>\n",
       "      <th>HomePlanet</th>\n",
       "      <th>CryoSleep</th>\n",
       "      <th>Cabin</th>\n",
       "      <th>Cabin_Deck</th>\n",
       "      <th>Cabin_Side</th>\n",
       "      <th>Cabin_DS</th>\n",
       "      <th>Destination</th>\n",
       "      <th>Age</th>\n",
       "      <th>Age_Catg</th>\n",
       "      <th>VIP</th>\n",
       "      <th>RoomService</th>\n",
       "      <th>FoodCourt</th>\n",
       "      <th>ShoppingMall</th>\n",
       "      <th>Spa</th>\n",
       "      <th>VRDeck</th>\n",
       "      <th>Total_Expenses</th>\n",
       "      <th>Name</th>\n",
       "      <th>Transported</th>\n",
       "    </tr>\n",
       "  </thead>\n",
       "  <tbody>\n",
       "    <tr>\n",
       "      <th>0</th>\n",
       "      <td>0001_01</td>\n",
       "      <td>01</td>\n",
       "      <td>0001</td>\n",
       "      <td>Europa</td>\n",
       "      <td>False</td>\n",
       "      <td>B/0/P</td>\n",
       "      <td>B</td>\n",
       "      <td>P</td>\n",
       "      <td>BP</td>\n",
       "      <td>TRAPPIST-1e</td>\n",
       "      <td>39.0</td>\n",
       "      <td>21-40</td>\n",
       "      <td>False</td>\n",
       "      <td>0.0</td>\n",
       "      <td>0.0</td>\n",
       "      <td>0.0</td>\n",
       "      <td>0.0</td>\n",
       "      <td>0.0</td>\n",
       "      <td>0.0</td>\n",
       "      <td>Maham Ofracculy</td>\n",
       "      <td>False</td>\n",
       "    </tr>\n",
       "    <tr>\n",
       "      <th>1</th>\n",
       "      <td>0002_01</td>\n",
       "      <td>01</td>\n",
       "      <td>0002</td>\n",
       "      <td>Earth</td>\n",
       "      <td>False</td>\n",
       "      <td>F/0/S</td>\n",
       "      <td>F</td>\n",
       "      <td>S</td>\n",
       "      <td>FS</td>\n",
       "      <td>TRAPPIST-1e</td>\n",
       "      <td>24.0</td>\n",
       "      <td>21-40</td>\n",
       "      <td>False</td>\n",
       "      <td>109.0</td>\n",
       "      <td>9.0</td>\n",
       "      <td>25.0</td>\n",
       "      <td>549.0</td>\n",
       "      <td>44.0</td>\n",
       "      <td>702.0</td>\n",
       "      <td>Juanna Vines</td>\n",
       "      <td>True</td>\n",
       "    </tr>\n",
       "    <tr>\n",
       "      <th>2</th>\n",
       "      <td>0003_01</td>\n",
       "      <td>01</td>\n",
       "      <td>0003</td>\n",
       "      <td>Europa</td>\n",
       "      <td>False</td>\n",
       "      <td>A/0/S</td>\n",
       "      <td>A</td>\n",
       "      <td>S</td>\n",
       "      <td>AS</td>\n",
       "      <td>TRAPPIST-1e</td>\n",
       "      <td>58.0</td>\n",
       "      <td>41-60</td>\n",
       "      <td>True</td>\n",
       "      <td>43.0</td>\n",
       "      <td>3576.0</td>\n",
       "      <td>0.0</td>\n",
       "      <td>6715.0</td>\n",
       "      <td>49.0</td>\n",
       "      <td>6807.0</td>\n",
       "      <td>Altark Susent</td>\n",
       "      <td>False</td>\n",
       "    </tr>\n",
       "    <tr>\n",
       "      <th>3</th>\n",
       "      <td>0003_02</td>\n",
       "      <td>02</td>\n",
       "      <td>0003</td>\n",
       "      <td>Europa</td>\n",
       "      <td>False</td>\n",
       "      <td>A/0/S</td>\n",
       "      <td>A</td>\n",
       "      <td>S</td>\n",
       "      <td>AS</td>\n",
       "      <td>TRAPPIST-1e</td>\n",
       "      <td>33.0</td>\n",
       "      <td>21-40</td>\n",
       "      <td>False</td>\n",
       "      <td>0.0</td>\n",
       "      <td>1283.0</td>\n",
       "      <td>371.0</td>\n",
       "      <td>3329.0</td>\n",
       "      <td>193.0</td>\n",
       "      <td>3522.0</td>\n",
       "      <td>Solam Susent</td>\n",
       "      <td>False</td>\n",
       "    </tr>\n",
       "    <tr>\n",
       "      <th>4</th>\n",
       "      <td>0004_01</td>\n",
       "      <td>01</td>\n",
       "      <td>0004</td>\n",
       "      <td>Earth</td>\n",
       "      <td>False</td>\n",
       "      <td>F/1/S</td>\n",
       "      <td>F</td>\n",
       "      <td>S</td>\n",
       "      <td>FS</td>\n",
       "      <td>TRAPPIST-1e</td>\n",
       "      <td>16.0</td>\n",
       "      <td>0-20</td>\n",
       "      <td>False</td>\n",
       "      <td>303.0</td>\n",
       "      <td>70.0</td>\n",
       "      <td>151.0</td>\n",
       "      <td>565.0</td>\n",
       "      <td>2.0</td>\n",
       "      <td>870.0</td>\n",
       "      <td>Willy Santantines</td>\n",
       "      <td>True</td>\n",
       "    </tr>\n",
       "  </tbody>\n",
       "</table>\n",
       "</div>"
      ],
      "text/plain": [
       "  PassengerId Passenger_No Passenger_group HomePlanet  CryoSleep  Cabin  \\\n",
       "0     0001_01           01            0001     Europa      False  B/0/P   \n",
       "1     0002_01           01            0002      Earth      False  F/0/S   \n",
       "2     0003_01           01            0003     Europa      False  A/0/S   \n",
       "3     0003_02           02            0003     Europa      False  A/0/S   \n",
       "4     0004_01           01            0004      Earth      False  F/1/S   \n",
       "\n",
       "  Cabin_Deck Cabin_Side Cabin_DS  Destination   Age Age_Catg    VIP  \\\n",
       "0          B          P       BP  TRAPPIST-1e  39.0    21-40  False   \n",
       "1          F          S       FS  TRAPPIST-1e  24.0    21-40  False   \n",
       "2          A          S       AS  TRAPPIST-1e  58.0    41-60   True   \n",
       "3          A          S       AS  TRAPPIST-1e  33.0    21-40  False   \n",
       "4          F          S       FS  TRAPPIST-1e  16.0     0-20  False   \n",
       "\n",
       "   RoomService  FoodCourt  ShoppingMall     Spa  VRDeck  Total_Expenses  \\\n",
       "0          0.0        0.0           0.0     0.0     0.0             0.0   \n",
       "1        109.0        9.0          25.0   549.0    44.0           702.0   \n",
       "2         43.0     3576.0           0.0  6715.0    49.0          6807.0   \n",
       "3          0.0     1283.0         371.0  3329.0   193.0          3522.0   \n",
       "4        303.0       70.0         151.0   565.0     2.0           870.0   \n",
       "\n",
       "                Name  Transported  \n",
       "0    Maham Ofracculy        False  \n",
       "1       Juanna Vines         True  \n",
       "2      Altark Susent        False  \n",
       "3       Solam Susent        False  \n",
       "4  Willy Santantines         True  "
      ]
     },
     "execution_count": 74,
     "metadata": {},
     "output_type": "execute_result"
    }
   ],
   "source": [
    "df1.head()"
   ]
  },
  {
   "cell_type": "code",
   "execution_count": null,
   "id": "f14d300c",
   "metadata": {},
   "outputs": [],
   "source": []
  },
  {
   "cell_type": "markdown",
   "id": "358b48ac",
   "metadata": {},
   "source": [
    "### Lets now save this data as a csv, and pass it to an ML model! "
   ]
  },
  {
   "cell_type": "code",
   "execution_count": 276,
   "id": "9d729fd7",
   "metadata": {},
   "outputs": [],
   "source": [
    "# df1.to_csv('./Data/to_machinelearning.csv',index=False)"
   ]
  },
  {
   "cell_type": "code",
   "execution_count": null,
   "id": "04b9716a",
   "metadata": {},
   "outputs": [],
   "source": []
  }
 ],
 "metadata": {
  "kernelspec": {
   "display_name": "Python 3 (ipykernel)",
   "language": "python",
   "name": "python3"
  },
  "language_info": {
   "codemirror_mode": {
    "name": "ipython",
    "version": 3
   },
   "file_extension": ".py",
   "mimetype": "text/x-python",
   "name": "python",
   "nbconvert_exporter": "python",
   "pygments_lexer": "ipython3",
   "version": "3.9.13"
  }
 },
 "nbformat": 4,
 "nbformat_minor": 5
}
